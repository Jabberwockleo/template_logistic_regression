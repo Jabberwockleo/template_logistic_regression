{
 "cells": [
  {
   "cell_type": "code",
   "execution_count": 3,
   "metadata": {},
   "outputs": [],
   "source": [
    "import config as conf\n",
    "import logistic_regressor\n",
    "import metrics as metrics\n",
    "import utils as utils\n",
    "import predict as pred\n",
    "import train as train"
   ]
  },
  {
   "cell_type": "code",
   "execution_count": 2,
   "metadata": {},
   "outputs": [
    {
     "name": "stdout",
     "output_type": "stream",
     "text": [
      "epoch: 0, global_step: 100, loss: 0.6070364117622375, accuracy: 0.6666666865348816, f1: 0.0, auc: 1.0\n",
      "epoch: 1, global_step: 200, loss: 0.41558778285980225, accuracy: 0.6666666865348816, f1: 0.0, auc: 1.0\n",
      "epoch: 1, global_step: 300, loss: 0.3293532729148865, accuracy: 0.753333330154419, f1: 0.4126984126984127, auc: 1.0\n",
      "epoch: 2, global_step: 400, loss: 0.3058370351791382, accuracy: 0.9066666960716248, f1: 0.8372093023255814, auc: 1.0\n",
      "epoch: 3, global_step: 500, loss: 0.2873903512954712, accuracy: 0.9800000190734863, f1: 0.9690721649484536, auc: 1.0\n",
      "epoch: 3, global_step: 600, loss: 0.2760477066040039, accuracy: 0.9800000190734863, f1: 0.9690721649484536, auc: 1.0\n",
      "epoch: 4, global_step: 700, loss: 0.2640253007411957, accuracy: 1.0, f1: 1.0, auc: 1.0\n",
      "epoch: 5, global_step: 800, loss: 0.25592947006225586, accuracy: 0.9933333396911621, f1: 0.98989898989899, auc: 1.0\n",
      "epoch: 5, global_step: 900, loss: 0.24438926577568054, accuracy: 1.0, f1: 1.0, auc: 1.0\n",
      "epoch: 6, global_step: 1000, loss: 0.23521357774734497, accuracy: 1.0, f1: 1.0, auc: 1.0\n",
      "epoch: 7, global_step: 1100, loss: 0.22679667174816132, accuracy: 1.0, f1: 1.0, auc: 1.0\n",
      "epoch: 7, global_step: 1200, loss: 0.21898388862609863, accuracy: 1.0, f1: 1.0, auc: 1.0\n",
      "epoch: 8, global_step: 1300, loss: 0.2116030603647232, accuracy: 1.0, f1: 1.0, auc: 1.0\n",
      "epoch: 9, global_step: 1400, loss: 0.20482054352760315, accuracy: 1.0, f1: 1.0, auc: 1.0\n",
      "epoch: 9, global_step: 1500, loss: 0.19819992780685425, accuracy: 1.0, f1: 1.0, auc: 1.0\n",
      "INFO:tensorflow:Restoring parameters from /tmp/chkpt/lr/model\n",
      "tp:50.0, tn:50.0, fp:0.0, fn:0.0, acc:1.0, len:100\n",
      "accuracy: 1.0, f1: 1.0, auc: 1.0\n",
      "weights:  [array([[-0.05612026],\n",
      "       [ 0.72480565],\n",
      "       [-1.1069432 ],\n",
      "       [ 0.82560825]], dtype=float32)]\n",
      "biases:  [array([0.11238206], dtype=float32)]\n"
     ]
    }
   ],
   "source": [
    "# iris data\n",
    "import numpy as np\n",
    "from sklearn import datasets\n",
    "dataset_ori = datasets.load_iris(return_X_y=True)\n",
    "y_label = map(lambda x: x == 0, dataset_ori[1])\n",
    "dataset = []\n",
    "dataset.append(dataset_ori[0])\n",
    "dataset.append(np.array(list(y_label)).astype(int))\n",
    "\n",
    "# mock data\n",
    "#def mock_boundary_func(X):\n",
    "#    # mock weights is (1, 2, 3, ..)\n",
    "#    return np.sum(np.dot(X, list(range(1, len(X) + 1))))\n",
    "#dataset = []\n",
    "#dataset.append(np.random.standard_normal(size=(1000, FEATURE_NUM)))\n",
    "#dataset.append(np.array(list(map(lambda x: mock_boundary_func(x) >= 0, dataset[0]))).astype(int))\n",
    "\n",
    "train.main(dataset)\n",
    "pred.main_test(dataset)"
   ]
  },
  {
   "cell_type": "code",
   "execution_count": null,
   "metadata": {},
   "outputs": [],
   "source": []
  }
 ],
 "metadata": {
  "kernelspec": {
   "display_name": "Python 3",
   "language": "python",
   "name": "python3"
  },
  "language_info": {
   "codemirror_mode": {
    "name": "ipython",
    "version": 3
   },
   "file_extension": ".py",
   "mimetype": "text/x-python",
   "name": "python",
   "nbconvert_exporter": "python",
   "pygments_lexer": "ipython3",
   "version": "3.6.4"
  }
 },
 "nbformat": 4,
 "nbformat_minor": 2
}
